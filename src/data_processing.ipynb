{
 "cells": [
  {
   "cell_type": "markdown",
   "metadata": {},
   "source": [
    "**Count image**"
   ]
  },
  {
   "cell_type": "code",
   "execution_count": 1,
   "metadata": {},
   "outputs": [],
   "source": [
    "p_train= \"\"\n",
    "p_test= \"\""
   ]
  },
  {
   "cell_type": "code",
   "execution_count": 2,
   "metadata": {},
   "outputs": [
    {
     "name": "stdout",
     "output_type": "stream",
     "text": [
      "Number of train images: 237989\n",
      "Number of test images: 2720\n",
      "Number of total images: 240709\n"
     ]
    }
   ],
   "source": [
    "import os\n",
    "import os.path as path\n",
    "\n",
    "def count_images(p):\n",
    "    \n",
    "    num_img= 0\n",
    "    \n",
    "    for folder in os.listdir(p):\n",
    "        p_f= p+\"/\"+folder\n",
    "        \n",
    "        if path.isdir(p_f):\n",
    "            for img in os.listdir(p_f):\n",
    "                \n",
    "                num_img+=1\n",
    "    \n",
    "    return num_img\n",
    "            \n",
    "\n",
    "n_train= count_images(p_train)\n",
    "n_test= count_images(p_test)\n",
    "\n",
    "print(f\"Number of train images: {n_train}\")\n",
    "print(f\"Number of test images: {n_test}\")\n",
    "print(f'Number of total images: {n_train+n_test}')"
   ]
  },
  {
   "cell_type": "markdown",
   "metadata": {},
   "source": [
    "**Image resolutions**"
   ]
  },
  {
   "cell_type": "code",
   "execution_count": 4,
   "metadata": {},
   "outputs": [
    {
     "name": "stdout",
     "output_type": "stream",
     "text": [
      "Train image resolutions: \n",
      "{(768, 405): 14873, (768, 432): 223116}\n",
      "\n",
      "Test image resolutions: \n",
      "{(768, 432): 2720}\n"
     ]
    }
   ],
   "source": [
    "from PIL import Image\n",
    "from pprint import pprint\n",
    "\n",
    "\n",
    "def count_image_res(p):\n",
    "    \n",
    "    resolutions= dict()\n",
    "    \n",
    "    for folder in os.listdir(p):\n",
    "        p_f= p+\"/\"+folder\n",
    "        \n",
    "        if path.isdir(p_f):\n",
    "            for f in os.listdir(p_f):\n",
    "                    with Image.open(p_f+\"/\"+f) as img:\n",
    "                        img_size= img.size\n",
    "                        \n",
    "                        if img_size in resolutions.keys():\n",
    "                            resolutions[img_size]+=1\n",
    "                        else:\n",
    "                            resolutions[img_size]=1\n",
    "    \n",
    "    return resolutions\n",
    "    \n",
    "train_res= count_image_res(p_train)\n",
    "test_res= count_image_res(p_test)\n",
    "\n",
    "print(\"Train image resolutions: \")\n",
    "pprint(train_res)\n",
    "print(\"\\nTest image resolutions: \")\n",
    "pprint(test_res)"
   ]
  },
  {
   "cell_type": "code",
   "execution_count": null,
   "metadata": {},
   "outputs": [],
   "source": [
    "from random import sample\n",
    "import shutil\n",
    "\n",
    "test_input= \"\"\n",
    "train_input= \"\"\n",
    "test_output= \"\"\n",
    "train_output= \"\"\n",
    "\n",
    "def sample_images(input_folder, output_folder, num_img):\n",
    "    \n",
    "    all_images = [f for f in os.listdir(input_folder) if f.endswith('.jpg')]\n",
    "    \n",
    "    sampled_images= sample(all_images, num_img)\n",
    "    \n",
    "    for img in sampled_images:\n",
    "        shutil.copy(os.path.join(input_folder, img), os.path.join(output_folder, img))\n",
    "\n",
    "    print(f\"Copied {len(sampled_images)} images to {output_folder}\")\n",
    "    \n",
    "sample_images(train_input, train_output, 9000)\n",
    "sample_images(test_input, test_output, 1000)"
   ]
  },
  {
   "cell_type": "code",
   "execution_count": 4,
   "metadata": {},
   "outputs": [
    {
     "name": "stdout",
     "output_type": "stream",
     "text": [
      "2720\n"
     ]
    }
   ],
   "source": [
    "import os\n",
    "\n",
    "videomatte240k_unpacked= \"\"\n",
    "files= os.listdir(videomatte240k_unpacked)\n",
    "print(len(files))\n"
   ]
  },
  {
   "cell_type": "code",
   "execution_count": null,
   "metadata": {},
   "outputs": [],
   "source": [
    "from os import path as path\n",
    "import os\n",
    "import shutil\n",
    "from alive_progress import alive_bar\n",
    "\n",
    "\n",
    "def unpack_split(split_path, videomatte240k_unpacked, split_name):\n",
    "    \n",
    "    #source    \n",
    "    fgr_path= path.join(split_path, 'fgr')\n",
    "    pha_path= path.join(split_path, 'pha')\n",
    "    \n",
    "    #destination\n",
    "    dest_fgr_path= path.join(videomatte240k_unpacked, split_name, 'fgr')\n",
    "    dest_pha_path= path.join(videomatte240k_unpacked, split_name, 'pha')\n",
    "    n_img= 0\n",
    "    \n",
    "    #scenes\n",
    "    for scene_fgr, scene_pha in zip(os.listdir(fgr_path),os.listdir(pha_path)):\n",
    "        scene_fgr_path=path.join(fgr_path, scene_fgr)\n",
    "        scene_pha_path= path.join(pha_path, scene_pha)\n",
    "        \n",
    "        #images\n",
    "        if path.isdir(scene_fgr_path):\n",
    "            for img_fgr, img_pha in zip(os.listdir(scene_fgr_path), os.listdir(scene_pha_path)):\n",
    "                            \n",
    "                name= scene_fgr[-4:]+'_'+img_fgr #provide a unique file_name (scene_img.jpg) \n",
    "                \n",
    "                #copy foreground and alpha matt\n",
    "                shutil.copy(path.join(scene_fgr_path, img_fgr), path.join(dest_fgr_path, name))            \n",
    "                shutil.copy(path.join(scene_pha_path, img_pha), path.join(dest_pha_path, name))\n",
    "                n_img+=2\n",
    "                                \n",
    "                \n",
    "        \n",
    "    print(f'Copied {n_img} images from {split_path} to {path.join(videomatte240k_unpacked, split_name)}')\n",
    "        \n",
    "\n",
    "def unpack_videomatte240k(videomatte240k, videomatte240k_unpacked):\n",
    "    videomatte_train= path.join(videomatte240k, \"train\")\n",
    "    videomatte_test= path.join(videomatte240k, \"test\")\n",
    "    \n",
    "    unpack_split(videomatte_train,videomatte240k_unpacked, 'train')\n",
    "    unpack_split(videomatte_test,videomatte240k_unpacked, 'test')\n",
    "    \n",
    "    \n",
    "\n",
    "videomatte240k= \"\"\n",
    "videomatte240k_unpacked= \"\" \n",
    "\n",
    "unpack_videomatte240k(videomatte240k, videomatte240k_unpacked)"
   ]
  },
  {
   "cell_type": "code",
   "execution_count": 9,
   "metadata": {},
   "outputs": [],
   "source": [
    "from sklearn.model_selection import train_test_split\n",
    "import os \n",
    "from os import path\n",
    "\n",
    "def move_splits(split_source: str, split_dest: str, fgrs: list, phas: list):\n",
    "    for fgr, pha in zip(fgrs, phas):\n",
    "        fgr_path= path.join(split_source,\"fgr\", fgr)\n",
    "        pha_path= path.join(split_source, 'pha', pha)\n",
    "        shutil.copy(fgr_path, path.join(split_dest, 'fgr'))\n",
    "        shutil.copy(pha_path, path.join(split_dest, 'pha'))\n",
    "    \n",
    "    print(f'Moved {len(fgrs)} images from {split_source} to {split_dest}')    \n",
    "    \n",
    "def split_dataset(raw_folder, composite_folder):\n",
    "    train_path= path.join(raw_folder, 'train')\n",
    "    \n",
    "    #split train set in train and val sets (equal random state to keep order)\n",
    "    train_fgr, val_fgr= train_test_split(\n",
    "        os.listdir(path.join(train_path, 'fgr')), test_size=3007/237989, random_state=42)\n",
    "    train_pha, val_pha= train_test_split(\n",
    "        os.listdir(path.join(train_path, 'pha')), test_size=3007/237989, random_state=42)\n",
    "    \n",
    "    move_splits(train_path, path.join(composite_folder, 'training', 'train'), train_fgr, train_pha)\n",
    "    move_splits(train_path, path.join(composite_folder, 'training', 'val'), val_fgr, val_pha)\n",
    "    \n",
    "    #just copy test files to dest folder\n",
    "    test_path= path.join(raw_folder, 'test')\n",
    "    test_fgr= os.listdir(path.join(test_path, 'fgr'))\n",
    "    test_pha= os.listdir(path.join(test_path, \"pha\"))\n",
    "    move_splits(test_path, path.join(composite_folder, 'test'), test_fgr, test_pha)\n",
    "    \n",
    "    \n",
    "\n",
    "split_dataset(\"/Users/jannisschuhmann/Documents/Uni/Semester5/ProjectCVPR/EFormer-Reproduction/data/raw/VideoMatte240k_unpacked\",\n",
    "              \"/Users/jannisschuhmann/Documents/Uni/Semester5/ProjectCVPR/EFormer-Reproduction/data/composite_dataset\")"
   ]
  },
  {
   "cell_type": "code",
   "execution_count": 27,
   "metadata": {},
   "outputs": [
    {
     "name": "stdout",
     "output_type": "stream",
     "text": [
      "1000\n",
      "2720\n",
      "2720\n",
      "234982\n",
      "234982\n",
      "3007\n",
      "3007\n",
      "9000\n"
     ]
    }
   ],
   "source": [
    "print(len(os.listdir('/Users/jannisschuhmann/Documents/Uni/Semester5/ProjectCVPR/EFormer-Reproduction/data/composite_dataset/test/backgrounds')))\n",
    "print(len(os.listdir('/Users/jannisschuhmann/Documents/Uni/Semester5/ProjectCVPR/EFormer-Reproduction/data/composite_dataset/test/pha')))\n",
    "print(len(os.listdir('/Users/jannisschuhmann/Documents/Uni/Semester5/ProjectCVPR/EFormer-Reproduction/data/composite_dataset/test/fgr')))\n",
    "print(len(os.listdir('/Users/jannisschuhmann/Documents/Uni/Semester5/ProjectCVPR/EFormer-Reproduction/data/composite_dataset/training/train/fgr')))\n",
    "print(len(os.listdir('/Users/jannisschuhmann/Documents/Uni/Semester5/ProjectCVPR/EFormer-Reproduction/data/composite_dataset/training/train/pha')))\n",
    "print(len(os.listdir('/Users/jannisschuhmann/Documents/Uni/Semester5/ProjectCVPR/EFormer-Reproduction/data/composite_dataset/training/val/fgr')))\n",
    "print(len(os.listdir('/Users/jannisschuhmann/Documents/Uni/Semester5/ProjectCVPR/EFormer-Reproduction/data/composite_dataset/training/val/pha')))\n",
    "print(len(os.listdir('/Users/jannisschuhmann/Documents/Uni/Semester5/ProjectCVPR/EFormer-Reproduction/data/composite_dataset/training/backgrounds')))"
   ]
  }
 ],
 "metadata": {
  "kernelspec": {
   "display_name": "eformer_env",
   "language": "python",
   "name": "python3"
  },
  "language_info": {
   "codemirror_mode": {
    "name": "ipython",
    "version": 3
   },
   "file_extension": ".py",
   "mimetype": "text/x-python",
   "name": "python",
   "nbconvert_exporter": "python",
   "pygments_lexer": "ipython3",
   "version": "3.9.18"
  }
 },
 "nbformat": 4,
 "nbformat_minor": 2
}
